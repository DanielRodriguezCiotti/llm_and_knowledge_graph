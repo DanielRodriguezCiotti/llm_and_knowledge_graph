{
 "cells": [
  {
   "cell_type": "code",
   "execution_count": 1,
   "metadata": {},
   "outputs": [],
   "source": [
    "from neo4j import GraphDatabase\n",
    "from dotenv import load_dotenv\n",
    "import os\n",
    "from langchain.chat_models import ChatOpenAI\n",
    "from langchain.chains import GraphCypherQAChain\n",
    "from langchain.graphs import Neo4jGraph\n",
    "\n",
    "load_dotenv()  \n",
    "URI = os.environ[\"NEO4J_INSTANCE01_URI\"]\n",
    "USER = os.environ[\"NEO4J_INSTANCE01_USER\"]\n",
    "PWD = os.environ[\"NEO4J_INSTANCE01_KEY\"]\n",
    "\n",
    "graph = Neo4jGraph(url=URI, username=USER, password=os.environ[\"NEO4J_INSTANCE01_KEY\"])\n",
    "\n"
   ]
  },
  {
   "cell_type": "code",
   "execution_count": 2,
   "metadata": {},
   "outputs": [
    {
     "name": "stdout",
     "output_type": "stream",
     "text": [
      "\n",
      "        Node properties are the following:\n",
      "        [{'properties': [{'property': 'territoryID', 'type': 'STRING'}, {'property': 'territoryDescription', 'type': 'STRING'}], 'labels': 'Territory'}, {'properties': [{'property': 'regionID', 'type': 'STRING'}, {'property': 'regionDescription', 'type': 'STRING'}], 'labels': 'Region'}, {'properties': [{'property': 'supplierID', 'type': 'STRING'}, {'property': 'companyName', 'type': 'STRING'}, {'property': 'contactName', 'type': 'STRING'}, {'property': 'contactTitle', 'type': 'STRING'}, {'property': 'address', 'type': 'STRING'}, {'property': 'city', 'type': 'STRING'}, {'property': 'region', 'type': 'STRING'}, {'property': 'postalCode', 'type': 'STRING'}, {'property': 'country', 'type': 'STRING'}, {'property': 'phone', 'type': 'STRING'}, {'property': 'fax', 'type': 'STRING'}, {'property': 'homePage', 'type': 'STRING'}], 'labels': 'Supplier'}, {'properties': [{'property': 'productID', 'type': 'STRING'}, {'property': 'productName', 'type': 'STRING'}, {'property': 'unitPrice', 'type': 'FLOAT'}, {'property': 'unitsInStock', 'type': 'INTEGER'}, {'property': 'unitsOnOrder', 'type': 'INTEGER'}, {'property': 'reorderLevel', 'type': 'INTEGER'}, {'property': 'discontinued', 'type': 'BOOLEAN'}], 'labels': 'Product'}, {'properties': [{'property': 'categoryID', 'type': 'STRING'}, {'property': 'categoryName', 'type': 'STRING'}, {'property': 'description', 'type': 'STRING'}], 'labels': 'Category'}, {'properties': [{'property': 'companyName', 'type': 'STRING'}, {'property': 'phone', 'type': 'STRING'}, {'property': 'shipperID', 'type': 'STRING'}], 'labels': 'Shipper'}, {'properties': [{'property': 'companyName', 'type': 'STRING'}, {'property': 'contactName', 'type': 'STRING'}, {'property': 'contactTitle', 'type': 'STRING'}, {'property': 'address', 'type': 'STRING'}, {'property': 'city', 'type': 'STRING'}, {'property': 'region', 'type': 'STRING'}, {'property': 'postalCode', 'type': 'STRING'}, {'property': 'country', 'type': 'STRING'}, {'property': 'phone', 'type': 'STRING'}, {'property': 'fax', 'type': 'STRING'}, {'property': 'customerID', 'type': 'STRING'}], 'labels': 'Customer'}, {'properties': [{'property': 'address', 'type': 'STRING'}, {'property': 'city', 'type': 'STRING'}, {'property': 'region', 'type': 'STRING'}, {'property': 'postalCode', 'type': 'STRING'}, {'property': 'country', 'type': 'STRING'}, {'property': 'employeeID', 'type': 'STRING'}, {'property': 'lastName', 'type': 'STRING'}, {'property': 'firstName', 'type': 'STRING'}, {'property': 'title', 'type': 'STRING'}, {'property': 'titleOfCourtesy', 'type': 'STRING'}, {'property': 'birthDate', 'type': 'STRING'}, {'property': 'hireDate', 'type': 'STRING'}, {'property': 'homePhone', 'type': 'STRING'}, {'property': 'extension', 'type': 'STRING'}, {'property': 'notes', 'type': 'STRING'}, {'property': 'photoPath', 'type': 'STRING'}], 'labels': 'Employee'}, {'properties': [{'property': 'orderID', 'type': 'STRING'}, {'property': 'orderDate', 'type': 'STRING'}, {'property': 'requiredDate', 'type': 'STRING'}, {'property': 'shippedDate', 'type': 'STRING'}, {'property': 'freight', 'type': 'STRING'}, {'property': 'shipName', 'type': 'STRING'}, {'property': 'shipAddress', 'type': 'STRING'}, {'property': 'shipCity', 'type': 'STRING'}, {'property': 'shipRegion', 'type': 'STRING'}, {'property': 'shipPostalCode', 'type': 'STRING'}, {'property': 'shipCountry', 'type': 'STRING'}], 'labels': 'Order'}]\n",
      "        Relationship properties are the following:\n",
      "        [{'type': 'ORDERS', 'properties': [{'property': 'unitPrice', 'type': 'FLOAT'}, {'property': 'quantity', 'type': 'INTEGER'}, {'property': 'discount', 'type': 'FLOAT'}]}]\n",
      "        The relationships are the following:\n",
      "        ['(:Territory)-[:IN_REGION]->(:Region)', '(:Supplier)-[:SUPPLIES]->(:Product)', '(:Product)-[:PART_OF]->(:Category)', '(:Shipper)-[:SHIPS]->(:Order)', '(:Customer)-[:PURCHASED]->(:Order)', '(:Employee)-[:SOLD]->(:Order)', '(:Employee)-[:REPORTS_TO]->(:Employee)', '(:Employee)-[:IN_TERRITORY]->(:Territory)', '(:Order)-[:ORDERS]->(:Product)']\n",
      "        \n"
     ]
    }
   ],
   "source": [
    "print(graph.get_schema)"
   ]
  },
  {
   "cell_type": "code",
   "execution_count": 3,
   "metadata": {},
   "outputs": [],
   "source": [
    "chain = GraphCypherQAChain.from_llm(\n",
    "     graph=graph,\n",
    "     cypher_llm=ChatOpenAI(temperature=0, model=\"gpt-4\", openai_api_key= os.environ[\"OPENAI_API_KEY\"]),\n",
    "     qa_llm=ChatOpenAI(temperature=0, model=\"gpt-4\", openai_api_key= os.environ[\"OPENAI_API_KEY\"]),\n",
    "     verbose=True,\n",
    "     return_intermediate_steps=True,\n",
    "     top_k=100\n",
    ")"
   ]
  },
  {
   "cell_type": "code",
   "execution_count": 5,
   "metadata": {},
   "outputs": [
    {
     "name": "stdout",
     "output_type": "stream",
     "text": [
      "\n",
      "\n",
      "\u001b[1m> Entering new GraphCypherQAChain chain...\u001b[0m\n",
      "Generated Cypher:\n",
      "\u001b[32;1m\u001b[1;3mMATCH (p:Product)\n",
      "RETURN p.productName AS Product, p.unitsInStock AS Stock\n",
      "ORDER BY p.unitsInStock DESC\n",
      "LIMIT 1\u001b[0m\n",
      "Full Context:\n",
      "\u001b[32;1m\u001b[1;3m[{'Product': 'Rhönbräu Klosterbier', 'Stock': 125}]\u001b[0m\n",
      "\n",
      "\u001b[1m> Finished chain.\u001b[0m\n"
     ]
    },
    {
     "data": {
      "text/plain": [
       "\"I'm sorry, but I can't determine the best product in our stock based on the provided information.\""
      ]
     },
     "execution_count": 5,
     "metadata": {},
     "output_type": "execute_result"
    }
   ],
   "source": [
    "chain.run(\"What is the best product of our stock?\")"
   ]
  }
 ],
 "metadata": {
  "kernelspec": {
   "display_name": "Python 3",
   "language": "python",
   "name": "python3"
  },
  "language_info": {
   "codemirror_mode": {
    "name": "ipython",
    "version": 3
   },
   "file_extension": ".py",
   "mimetype": "text/x-python",
   "name": "python",
   "nbconvert_exporter": "python",
   "pygments_lexer": "ipython3",
   "version": "3.11.5"
  },
  "orig_nbformat": 4
 },
 "nbformat": 4,
 "nbformat_minor": 2
}
