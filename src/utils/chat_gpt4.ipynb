{
 "cells": [
  {
   "cell_type": "code",
   "execution_count": 13,
   "metadata": {},
   "outputs": [
    {
     "data": {
      "text/plain": [
       "True"
      ]
     },
     "execution_count": 13,
     "metadata": {},
     "output_type": "execute_result"
    }
   ],
   "source": [
    "from dotenv import load_dotenv\n",
    "import openai\n",
    "\n",
    "load_dotenv()"
   ]
  },
  {
   "cell_type": "code",
   "execution_count": 14,
   "metadata": {},
   "outputs": [],
   "source": [
    "\n",
    "abstract = \"\"\" The lunar geological record has much to tell us about the earliest history of the Solar System, the origin and evolution of the Earth-Moon system, the geological evolution of rocky planets, and the near-Earth cosmic environment throughout Solar System history. In addition, the lunar surface offers outstanding opportunities for research in astronomy, astrobiology, fundamental physics, life sciences and human physiology and medicine. This paper provides an interdisciplinary review of outstanding lunar science objectives in all of these different areas. It is concluded that addressing them satisfactorily will require an end to the 40-year hiatus of lunar surface exploration, and the placing of new scientific instruments on, and the return of additional samples from, the surface of the Moon. Some of these objectives can be achieved robotically (e.g. through targeted sample return, the deployment of geophysical networks, and the placing of antennas on the lunar surface to form radio telescopes). However, in the longer term, most of these scientific objectives would benefit significantly from renewed human operations on the lunar surface. For these reasons it is highly desirable that current plans for renewed robotic surface exploration of the Moon are developed in the context of a future human lunar exploration programme, such as that proposed by the recently formulated Global Exploration Roadmap. \"\"\"\n",
    "completion = openai.ChatCompletion.create(\n",
    "  model=\"gpt-4\",\n",
    "  messages=[\n",
    "    {\"role\": \"system\", \"content\": \"You are an expert in python\"},\n",
    "    {\"role\": \"user\", \"content\": \"\"\"\n",
    "Give me the cypher query to create relation \"implication\" between nodes (:labelA {name: \"nameA\"}) and (:labelB {name: \"nameB\"})\n",
    "\"\"\"},\n",
    "  ]\n",
    ")"
   ]
  },
  {
   "cell_type": "code",
   "execution_count": 15,
   "metadata": {},
   "outputs": [],
   "source": [
    "text = completion.choices[0].message.content"
   ]
  },
  {
   "cell_type": "code",
   "execution_count": 16,
   "metadata": {},
   "outputs": [
    {
     "name": "stdout",
     "output_type": "stream",
     "text": [
      "('The query you are looking for is not a Python query, but a Cypher query '\n",
      " 'which is the query language for the Neo4j database. Here it is:\\n'\n",
      " '\\n'\n",
      " '```\\n'\n",
      " 'MATCH (a:labelA {name: \"nameA\"}), (b:labelB {name: \"nameB\"})\\n'\n",
      " 'CREATE (a)-[:IMPLICATION]->(b)\\n'\n",
      " '```\\n'\n",
      " '\\n'\n",
      " 'This query matches the first node with `labelA` and `name` equal to \"nameA\", '\n",
      " 'and the second node with `labelB` and `name` equal to \"nameB\". After finding '\n",
      " 'these nodes, it creates a relationship `IMPLICATION` from node `a` to node '\n",
      " '`b`.')\n"
     ]
    }
   ],
   "source": [
    "import pprint\n",
    "pprint.pprint(text)"
   ]
  }
 ],
 "metadata": {
  "kernelspec": {
   "display_name": "Python 3",
   "language": "python",
   "name": "python3"
  },
  "language_info": {
   "codemirror_mode": {
    "name": "ipython",
    "version": 3
   },
   "file_extension": ".py",
   "mimetype": "text/x-python",
   "name": "python",
   "nbconvert_exporter": "python",
   "pygments_lexer": "ipython3",
   "version": "3.11.5"
  },
  "orig_nbformat": 4
 },
 "nbformat": 4,
 "nbformat_minor": 2
}
