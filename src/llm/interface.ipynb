{
 "cells": [
  {
   "cell_type": "code",
   "execution_count": 1,
   "metadata": {},
   "outputs": [],
   "source": [
    "from QA_function import answer_question\n",
    "import pprint"
   ]
  },
  {
   "cell_type": "code",
   "execution_count": 3,
   "metadata": {},
   "outputs": [
    {
     "name": "stdout",
     "output_type": "stream",
     "text": [
      "{\n",
      "    'initial_question': 'What kind of bacterial spores could be found and analysed in the lunar environment ?',\n",
      "    'analisis' : 'In order to answer this question I need information about the types of bacterial spores and their presence in the lunar environment',\n",
      "    'informations_needed': ['types of bacterial spores', 'bacterial spores in lunar environment']\n",
      "}\n",
      "interesting nodes: ['bacterial spores']\n",
      "\n",
      "\n",
      "\u001b[1m> Entering new GraphCypherQAChain chain...\u001b[0m\n",
      "Generated Cypher:\n",
      "\u001b[32;1m\u001b[1;3mMATCH (n {name: 'bacterial spores'})-[*1..2]-(m) RETURN n, m\u001b[0m\n",
      "\n",
      "\u001b[1m> Finished chain.\u001b[0m\n"
     ]
    }
   ],
   "source": [
    "answer = answer_question(\"What kind of bacterial spores could be found and analysed in the lunar environment ?\")"
   ]
  },
  {
   "cell_type": "code",
   "execution_count": 4,
   "metadata": {},
   "outputs": [
    {
     "name": "stdout",
     "output_type": "stream",
     "text": [
      "('The knowledge graph does not provide specific types of bacterial spores that '\n",
      " 'could be found and analysed in the lunar environment. However, it suggests '\n",
      " 'that bacterial spores could potentially be found in the crashed remains of '\n",
      " 'unsterilized spacecraft and could be studied for their DNA, biochemical '\n",
      " 'damage, and viability.')\n"
     ]
    }
   ],
   "source": [
    "pprint.pprint(answer)"
   ]
  }
 ],
 "metadata": {
  "kernelspec": {
   "display_name": "Python 3",
   "language": "python",
   "name": "python3"
  },
  "language_info": {
   "codemirror_mode": {
    "name": "ipython",
    "version": 3
   },
   "file_extension": ".py",
   "mimetype": "text/x-python",
   "name": "python",
   "nbconvert_exporter": "python",
   "pygments_lexer": "ipython3",
   "version": "3.11.5"
  },
  "orig_nbformat": 4
 },
 "nbformat": 4,
 "nbformat_minor": 2
}
