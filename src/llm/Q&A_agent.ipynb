{
 "cells": [
  {
   "cell_type": "code",
   "execution_count": null,
   "metadata": {},
   "outputs": [],
   "source": [
    "from dotenv import load_dotenv\n",
    "import os\n",
    "import pandas as pd\n",
    "from langchain.chat_models import ChatOpenAI\n",
    "from langchain.chains import GraphCypherQAChain\n",
    "from langchain.graphs import Neo4jGraph\n",
    "from langchain.tools import Tool\n",
    "from langchain.agents import AgentType,initialize_agent\n",
    "from langchain.embeddings import OpenAIEmbeddings\n",
    "\n",
    "from sqlalchemy import create_engine\n",
    "\n",
    "\n",
    "load_dotenv()  \n",
    "URI = os.environ[\"NEO4J_INSTANCE01_URI\"]\n",
    "USER = os.environ[\"NEO4J_INSTANCE01_USER\"]\n",
    "PWD = os.environ[\"NEO4J_INSTANCE01_KEY\"]\n",
    "\n",
    "graph = Neo4jGraph(url=URI, username=USER, password=os.environ[\"NEO4J_INSTANCE01_KEY\"])\n",
    "llm = ChatOpenAI(temperature=0,model='gpt-4')\n",
    "embedding = OpenAIEmbeddings(model='text-embedding-ada-002')\n",
    "connection = create_engine(os.environ.get('DATABASE_URL'))\n",
    "\n"
   ]
  },
  {
   "cell_type": "code",
   "execution_count": null,
   "metadata": {},
   "outputs": [],
   "source": [
    "def search_similar_nodes(text_list : list):\n",
    "    nodes = []\n",
    "    for text in text_list:\n",
    "        text_embedding = embedding.embed_query(text)\n",
    "        vector_string = str(text_embedding)\n",
    "        sql_query = \"SELECT content FROM nodes_embeddings ORDER BY embedding <-> '\"+ vector_string +\"' LIMIT 2;\"\n",
    "        query_result = pd.read_sql(sql_query,connection)\n",
    "        nodes += query_result.content.to_list()\n",
    "    return nodes\n",
    "\n",
    "    "
   ]
  },
  {
   "cell_type": "code",
   "execution_count": null,
   "metadata": {},
   "outputs": [],
   "source": [
    "neo4j_search_chain = GraphCypherQAChain.from_llm(\n",
    "    llm,\n",
    "    graph=graph,\n",
    "    verbose=True,\n",
    "    top_k=100,\n",
    "    return_direct=True\n",
    ")"
   ]
  },
  {
   "cell_type": "code",
   "execution_count": null,
   "metadata": {},
   "outputs": [],
   "source": [
    "graph_schema = str(graph.get_schema).replace(\"{\",\"{{\").replace(\"}\",\"}}\")\n",
    "tools = [\n",
    "    Tool.from_function(\n",
    "        func=search_similar_nodes,\n",
    "        name = \"Search similar nodes\",\n",
    "        description=f\"\"\"\n",
    "## Purpose\n",
    "This function is useful to retreive similar nodes to a list of concepts.\n",
    "\n",
    "## Input\n",
    "The input is a list of strings. Each string is a concept.\n",
    "\n",
    "## Output \n",
    "You will receive the list of the interesting nodes for the given concepts\n",
    "\"\"\"),\n",
    "    Tool.from_function(\n",
    "        func=lambda x: neo4j_search_chain.run(\"Return the neighborhood subgraph of size 2 of nodes \" + str(x)),\n",
    "        name = \"Extract the neighborhood subgraph\",\n",
    "        description=f\"\"\"\n",
    "## Purpose\n",
    "This function is useful to retreive the the neighborhood subgraph of a given list of nodes\n",
    "\n",
    "## Input\n",
    "The input has to be a list of nodes. For example : ['1. Introduction','Abstract']\n",
    "\n",
    "## Output \n",
    "The neighborhood subgraph of the nodes\n",
    "\"\"\"),]"
   ]
  },
  {
   "cell_type": "code",
   "execution_count": null,
   "metadata": {},
   "outputs": [],
   "source": [
    "agent = initialize_agent(\n",
    "    tools= tools, \n",
    "    llm = llm, \n",
    "    agent=AgentType.ZERO_SHOT_REACT_DESCRIPTION, \n",
    "    verbose=True,\n",
    "    max_iterations = 10,\n",
    "   )\n"
   ]
  },
  {
   "cell_type": "code",
   "execution_count": null,
   "metadata": {},
   "outputs": [],
   "source": [
    "sys_message = \"\"\"\n",
    "You are an asistant specialized in question answering task using a knowledge graph database of a scientific paper.\n",
    "You will be ask a question about the paper. Your job is to build the answer step by step using the tools.\n",
    "\n",
    "1. Indentify in the question the list of concepts targetted. There can be multiple concepts.\n",
    "2. Use \"Search similar nodes\" tool the get the insteresting nodes. You have to pass the list of concepts from the previous step.\n",
    "3. Use \"Extract the neighborhood subgraph\" tool passing the list of nodes to retreive the information.\n",
    "4. Use this information to answer the initial question. \n",
    "\n",
    "\n",
    "Use the following format:\n",
    "\n",
    "Question: the input question you must answer\n",
    "Thought: you should always think about what to do\n",
    "Action: request the information from database using the tool \"Search in the scientific article graph database\".\n",
    "Action Input: the input to the action is a simple free text query\n",
    "Observation: the result of the action\n",
    "... (this Thought/Action/Action Input/Observation can repeat N times)\n",
    "Thought: I now know the final answer\n",
    "Final Answer: the final answer to the original input question\n",
    "\n",
    "Question: {input}\n",
    "Thought:{agent_scratchpad}\n",
    "\"\"\"\n",
    "agent.agent.llm_chain.prompt.template = sys_message"
   ]
  },
  {
   "cell_type": "code",
   "execution_count": null,
   "metadata": {},
   "outputs": [],
   "source": [
    "agent.run('What is the article about?')"
   ]
  }
 ],
 "metadata": {
  "kernelspec": {
   "display_name": "Python 3",
   "language": "python",
   "name": "python3"
  },
  "language_info": {
   "codemirror_mode": {
    "name": "ipython",
    "version": 3
   },
   "file_extension": ".py",
   "mimetype": "text/x-python",
   "name": "python",
   "nbconvert_exporter": "python",
   "pygments_lexer": "ipython3",
   "version": "3.11.5"
  },
  "orig_nbformat": 4
 },
 "nbformat": 4,
 "nbformat_minor": 2
}
