{
 "cells": [
  {
   "cell_type": "code",
   "execution_count": 7,
   "metadata": {},
   "outputs": [],
   "source": [
    "from dotenv import load_dotenv\n",
    "import os\n",
    "from langchain.graphs import Neo4jGraph\n",
    "from tqdm import tqdm\n",
    "\n",
    "load_dotenv()  \n",
    "URI = os.environ[\"NEO4J_INSTANCE01_URI\"]\n",
    "USER = os.environ[\"NEO4J_INSTANCE01_USER\"]\n",
    "PWD = os.environ[\"NEO4J_INSTANCE01_KEY\"]\n",
    "\n",
    "graph = Neo4jGraph(url=URI, username=USER, password=os.environ[\"NEO4J_INSTANCE01_KEY\"])\n",
    "\n"
   ]
  },
  {
   "cell_type": "code",
   "execution_count": 8,
   "metadata": {},
   "outputs": [
    {
     "name": "stdout",
     "output_type": "stream",
     "text": [
      "3122\n"
     ]
    }
   ],
   "source": [
    "with open('cypher_queries.txt','r') as f:\n",
    "    queries = f.readlines()\n",
    "print(len(queries))"
   ]
  },
  {
   "cell_type": "code",
   "execution_count": 9,
   "metadata": {},
   "outputs": [
    {
     "name": "stderr",
     "output_type": "stream",
     "text": [
      "100%|██████████| 3122/3122 [04:10<00:00, 12.48it/s]\n"
     ]
    }
   ],
   "source": [
    "for query in tqdm(queries):\n",
    "    graph.query(query)\n",
    "    "
   ]
  }
 ],
 "metadata": {
  "kernelspec": {
   "display_name": "Python 3",
   "language": "python",
   "name": "python3"
  },
  "language_info": {
   "codemirror_mode": {
    "name": "ipython",
    "version": 3
   },
   "file_extension": ".py",
   "mimetype": "text/x-python",
   "name": "python",
   "nbconvert_exporter": "python",
   "pygments_lexer": "ipython3",
   "version": "3.11.5"
  },
  "orig_nbformat": 4
 },
 "nbformat": 4,
 "nbformat_minor": 2
}
