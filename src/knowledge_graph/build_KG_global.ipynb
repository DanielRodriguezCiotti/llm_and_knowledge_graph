{
 "cells": [
  {
   "cell_type": "code",
   "execution_count": 9,
   "metadata": {},
   "outputs": [],
   "source": [
    "import json"
   ]
  },
  {
   "cell_type": "code",
   "execution_count": 10,
   "metadata": {},
   "outputs": [],
   "source": [
    "with open(\"data_graph.json\",\"r\") as f:\n",
    "    dict_p = json.load(f)"
   ]
  },
  {
   "cell_type": "code",
   "execution_count": 11,
   "metadata": {},
   "outputs": [],
   "source": [
    "nodes = []\n",
    "relations = []\n",
    "for p in dict_p[\"paragraphs\"]:\n",
    "    nodes += p[\"graph\"][\"nodes\"]\n",
    "    relations += p[\"graph\"][\"relations\"]"
   ]
  },
  {
   "cell_type": "code",
   "execution_count": 12,
   "metadata": {},
   "outputs": [],
   "source": [
    "with open(\"hierarchy.json\",\"r\") as f:\n",
    "  hierarchy_dict = json.load(f)"
   ]
  },
  {
   "cell_type": "code",
   "execution_count": 13,
   "metadata": {},
   "outputs": [],
   "source": [
    "list_of_cypher_queries = []\n",
    "\n",
    "def building_hierarchy_tree(parent,hierarchy_dict,list_of_cypher_queries):\n",
    "    for title,content in hierarchy_dict.items():\n",
    "        label = content[\"label\"]\n",
    "        list_of_cypher_queries += ['CREATE (:' + label.lower()+ ' {name: \"'+ title +'\"});']\n",
    "        if parent is not None :\n",
    "            list_of_cypher_queries += ['MATCH (a:'+parent['label'].lower()+'{name:\"'+parent['name']+'\"}), (b:' + label.lower() +' {name:\"' + title +'\"})' + '  CREATE (b)-[:IS_PART_OF]->(a);']\n",
    "        if \"childs\" in content.keys():\n",
    "            list_of_cypher_queries = building_hierarchy_tree({'name':title,'label':label},content[\"childs\"],list_of_cypher_queries)\n",
    "    return list_of_cypher_queries\n",
    "\n",
    "list_of_cypher_queries = building_hierarchy_tree(None,hierarchy_dict,list_of_cypher_queries)"
   ]
  },
  {
   "cell_type": "code",
   "execution_count": 14,
   "metadata": {},
   "outputs": [],
   "source": [
    "\n",
    "def build_node_name(title,number):\n",
    "    if \"Abstract\" in title:\n",
    "        return \"Abstract P1\"\n",
    "    else:\n",
    "        if title[2].isnumeric():\n",
    "            if title[4].isnumeric():\n",
    "                return title[:5]+ \" P\" + str(number)\n",
    "            else:\n",
    "                return title[:3] + \" P\" + str(number)\n",
    "        else:\n",
    "            return title[:2] + \" P\" + str(number)\n",
    "        \n"
   ]
  },
  {
   "cell_type": "code",
   "execution_count": 7,
   "metadata": {},
   "outputs": [],
   "source": [
    "for p in dict_p[\"paragraphs\"]:\n",
    "    paragraph_name = build_node_name(p[\"section\"],p[\"number\"])\n",
    "    nodes = p[\"graph\"][\"nodes\"]\n",
    "    relations = p[\"graph\"][\"relations\"]\n",
    "    for node in nodes :\n",
    "        list_of_cypher_queries += ['CREATE (:concept {name: \"'+ node +'\"});']\n",
    "        list_of_cypher_queries += ['MATCH (a:paragraph {name:\"' + paragraph_name +'\"}), (b:concept {name:\"' + node +'\"})' + '  CREATE (a)-[:TALKS_ABOUT]->(b);']\n",
    "    for relation in relations:\n",
    "        if relation[0] not in nodes:\n",
    "            list_of_cypher_queries += ['CREATE (:concept {name: \"'+ relation[0] +'\"});']\n",
    "            list_of_cypher_queries += ['MATCH (a:paragraph {name:\"' + paragraph_name +'\"}), (b:concept {name:\"' + relation[0] +'\"})' + '  CREATE (a)-[:TALKS_ABOUT]->(b);']\n",
    "        if relation[1] not in nodes:\n",
    "            list_of_cypher_queries += ['CREATE (:concept {name: \"'+ relation[1] +'\"});']\n",
    "            list_of_cypher_queries += ['MATCH (a:paragraph {name:\"' + paragraph_name +'\"}), (b:concept {name:\"' + relation[1] +'\"})' + '  CREATE (a)-[:TALKS_ABOUT]->(b);']\n",
    "\n",
    "        list_of_cypher_queries += ['MATCH (a:concept {name:\"' + relation[0] +'\"}), (b:concept {name:\"' + relation[1] +'\"})' + '  CREATE (a)-[:'+ relation[2].upper().replace(\"-\",\"_\").replace(\" \",\"_\").replace(\".\",\"_\") +']->(b);']"
   ]
  },
  {
   "cell_type": "code",
   "execution_count": 8,
   "metadata": {},
   "outputs": [],
   "source": [
    "with open('cypher_queries.txt', 'w') as f:\n",
    "    for line in list_of_cypher_queries:\n",
    "        f.write(f\"{line}\\n\")"
   ]
  }
 ],
 "metadata": {
  "kernelspec": {
   "display_name": "Python 3",
   "language": "python",
   "name": "python3"
  },
  "language_info": {
   "codemirror_mode": {
    "name": "ipython",
    "version": 3
   },
   "file_extension": ".py",
   "mimetype": "text/x-python",
   "name": "python",
   "nbconvert_exporter": "python",
   "pygments_lexer": "ipython3",
   "version": "3.11.5"
  },
  "orig_nbformat": 4
 },
 "nbformat": 4,
 "nbformat_minor": 2
}
