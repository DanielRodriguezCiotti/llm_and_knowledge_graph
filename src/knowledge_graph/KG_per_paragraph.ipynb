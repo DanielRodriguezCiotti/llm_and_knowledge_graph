{
 "cells": [
  {
   "cell_type": "code",
   "execution_count": 1,
   "metadata": {},
   "outputs": [
    {
     "data": {
      "text/plain": [
       "True"
      ]
     },
     "execution_count": 1,
     "metadata": {},
     "output_type": "execute_result"
    }
   ],
   "source": [
    "import langchain\n",
    "from dotenv import load_dotenv\n",
    "import json\n",
    "from tqdm import tqdm\n",
    "\n",
    "load_dotenv()"
   ]
  },
  {
   "cell_type": "code",
   "execution_count": null,
   "metadata": {},
   "outputs": [],
   "source": [
    "with open(\"data.json\", 'r') as json_file:\n",
    "    dict_p = json.load(json_file)"
   ]
  },
  {
   "cell_type": "code",
   "execution_count": null,
   "metadata": {},
   "outputs": [],
   "source": [
    "\n",
    "# Load the LLM model\n",
    "chat = langchain.chat_models.ChatOpenAI(temperature=0.2, model_name='gpt-4',)\n",
    "\n",
    "\n",
    "def get_basic_chat_chain(system_template: str, user_template: str) -> langchain.LLMChain:\n",
    "    \"\"\"\n",
    "    Returns a langchain chain given an user and chat inputs\n",
    "\n",
    "    Parameters:\n",
    "        system_template (str): The system template\n",
    "        user_template (str): The user template\n",
    "\n",
    "    Returns:\n",
    "        langchain.LLMChain: The langchain chain\n",
    "    \"\"\"\n",
    "\n",
    "    system_prompt = langchain.prompts.SystemMessagePromptTemplate.from_template(\n",
    "        system_template)\n",
    "\n",
    "    user_prompt = langchain.prompts.HumanMessagePromptTemplate.from_template(\n",
    "        user_template)\n",
    "\n",
    "    chat_prompt = langchain.prompts.ChatPromptTemplate.from_messages([\n",
    "        system_prompt,\n",
    "        user_prompt\n",
    "    ])\n",
    "\n",
    "    return langchain.LLMChain(llm=chat, prompt=chat_prompt)\n",
    "\n"
   ]
  },
  {
   "cell_type": "code",
   "execution_count": null,
   "metadata": {},
   "outputs": [],
   "source": [
    "system_promt = \"\"\"\n",
    "Your are an assistant and you are creating a knowledge graph from a scientific article the talks about the moon exploration.\n",
    "You will be given as input a piece of text from the article. \n",
    "Your job is to identify the main concepts to use them as nodes in our knowledge graph. \n",
    "Then you have to identify the relations between each concept.\n",
    "\n",
    "You will return the answer as a JSON object with the keys:\n",
    "    - \"nodes\" and the value as a list of strings ['concept1','concept2','concept3',...].\n",
    "    - \"relations\" and the value as a list of lists [['concept9','concept10','relation1'],['concept9','concept2','relation2']...]\n",
    "You have to only return the JSON object.\n",
    "Your answer begins with a left curly bracket and ends with a right curly bracket.\n",
    "No preface text.\n",
    "\n",
    "\"\"\"\n",
    "user_prompt = \"\"\"\n",
    "## TEXT:\n",
    "{text}\n",
    "\n",
    "\"\"\"\n",
    "chain = get_basic_chat_chain(system_promt,user_prompt)"
   ]
  },
  {
   "cell_type": "code",
   "execution_count": null,
   "metadata": {},
   "outputs": [],
   "source": [
    "for p in tqdm(dict_p[\"paragraphs\"][:12]):\n",
    "    text=p[\"text\"]\n",
    "    response = chain.run(text=text)\n",
    "    try:\n",
    "        p[\"graph\"] = json.loads(response)\n",
    "    except:\n",
    "        print(response)\n",
    "\n"
   ]
  },
  {
   "cell_type": "code",
   "execution_count": 2,
   "metadata": {},
   "outputs": [
    {
     "ename": "NameError",
     "evalue": "name 'dict_p' is not defined",
     "output_type": "error",
     "traceback": [
      "\u001b[0;31m---------------------------------------------------------------------------\u001b[0m",
      "\u001b[0;31mNameError\u001b[0m                                 Traceback (most recent call last)",
      "\u001b[1;32m/Users/danielrodriguez/Desktop/llm_and_knowledge_graph/src/knowledge_graph/KG_per_paragraph.ipynb Cell 6\u001b[0m line \u001b[0;36m2\n\u001b[1;32m      <a href='vscode-notebook-cell:/Users/danielrodriguez/Desktop/llm_and_knowledge_graph/src/knowledge_graph/KG_per_paragraph.ipynb#W5sZmlsZQ%3D%3D?line=0'>1</a>\u001b[0m \u001b[39mwith\u001b[39;00m \u001b[39mopen\u001b[39m(\u001b[39m\"\u001b[39m\u001b[39mdata_graph\u001b[39m\u001b[39m\"\u001b[39m,\u001b[39m\"\u001b[39m\u001b[39mw\u001b[39m\u001b[39m\"\u001b[39m) \u001b[39mas\u001b[39;00m f:\n\u001b[0;32m----> <a href='vscode-notebook-cell:/Users/danielrodriguez/Desktop/llm_and_knowledge_graph/src/knowledge_graph/KG_per_paragraph.ipynb#W5sZmlsZQ%3D%3D?line=1'>2</a>\u001b[0m     json\u001b[39m.\u001b[39mdump(dict_p, f, indent\u001b[39m=\u001b[39m\u001b[39m4\u001b[39m)\n",
      "\u001b[0;31mNameError\u001b[0m: name 'dict_p' is not defined"
     ]
    }
   ],
   "source": [
    "with open(\"data_graph.json\",\"w\") as f:\n",
    "    json.dump(dict_p, f, indent=4)"
   ]
  },
  {
   "cell_type": "code",
   "execution_count": 4,
   "metadata": {},
   "outputs": [],
   "source": [
    "with open(\"data_graph.json\",\"r\") as f:\n",
    "    dict_p = json.load(f)"
   ]
  },
  {
   "cell_type": "code",
   "execution_count": 5,
   "metadata": {},
   "outputs": [],
   "source": [
    "nodes = []\n",
    "relations = []\n",
    "for p in dict_p[\"paragraphs\"][:12]:\n",
    "    nodes += p[\"graph\"][\"nodes\"]\n",
    "    relations += p[\"graph\"][\"relations\"]\n",
    "    "
   ]
  },
  {
   "cell_type": "code",
   "execution_count": null,
   "metadata": {},
   "outputs": [],
   "source": [
    "system_promt = \"\"\"\n",
    "Your are an assistant and you are creating a knowledge graph from a scientific article the talks about the moon exploration.\n",
    "You will be given as input all the nodes.\n",
    "\n",
    "You have to return a list of Cypher queries to create all this nodes, with the label \"concept\"\n",
    "You will return the Cypher queries a List of strings:\n",
    "['query1','quey2',...]\n",
    "Just return the list, nothing more.\n",
    "Your answer begins with a left  bracket and ends with a right  bracket.\n",
    "No preface text.\n",
    "\n",
    "\"\"\"\n",
    "user_prompt = \"\"\"\n",
    "## NODES:\n",
    "{nodes}\n",
    "\n",
    "\"\"\"\n",
    "cleaning_chain = get_basic_chat_chain(system_promt,user_prompt)"
   ]
  },
  {
   "cell_type": "code",
   "execution_count": null,
   "metadata": {},
   "outputs": [],
   "source": [
    "system_promt = \"\"\"\n",
    "Your are an assistant and you are creating a knowledge graph from a scientific article the talks about the moon exploration.\n",
    "You will be given as input all the nodes.\n",
    "The nodes is a list of concepts.\n",
    "Your job is to  merge nodes that are very similar in a final node.\n",
    "\n",
    "\n",
    "You will return the mapping as a JSON object with the keys as the ancien node names and the values as the new node names.\n",
    "You have to only return the JSON object.\n",
    "Your answer begins with a left curly bracket and ends with a right curly bracket.\n",
    "No preface text.\n",
    "\n",
    "\"\"\"\n",
    "user_prompt = \"\"\"\n",
    "## NODES:\n",
    "{nodes}\n",
    "\"\"\"\n",
    "cleaning_chain = get_basic_chat_chain(system_promt,user_prompt)"
   ]
  },
  {
   "cell_type": "code",
   "execution_count": null,
   "metadata": {},
   "outputs": [],
   "source": [
    "response = cleaning_chain.run(nodes=str(nodes))"
   ]
  },
  {
   "cell_type": "code",
   "execution_count": null,
   "metadata": {},
   "outputs": [],
   "source": [
    "print(response)"
   ]
  },
  {
   "cell_type": "code",
   "execution_count": 9,
   "metadata": {},
   "outputs": [],
   "source": [
    "hierarchy_dict = {\n",
    "    \"Article\":{\"label\":\"article\",\"childs\":{\n",
    "        \"Abstract\":{\"label\":\"Section\",\"childs\":{\"Abstract P1\":{\"label\":\"Paragraph\"}}},\n",
    "        \"1. Introduction\":{\"label\":\"Section\",\"childs\":{\"1. P1\":{\"label\":\"Paragraph\"}}},\n",
    "        \"2. Science of the Moon\":{\"label\":\"Section\",\"childs\":\n",
    "                                  {\n",
    "                                      \"2. P1\":{\"label\":\"Paragraph\"},\n",
    "                                      \"2. P2\":{\"label\":\"Paragraph\"},\n",
    "                                      \"2.1 The Bombardment History of the Inner Solar System\":{\n",
    "                                          \"label\":\"Subsection\",\n",
    "                                          \"childs\":{\"2.1 P1\":{\"label\":\"Paragraph\"},\n",
    "                                          \"2.1 P2\":{\"label\":\"Paragraph\"},\n",
    "                                          \"2.1 P3\":{\"label\":\"Paragraph\"}},\n",
    "                                          },\n",
    "                                      \"2.2 The structure and composition of the lunar interior\":{\n",
    "                                          \"label\":\"Subsection\",\n",
    "                                          \"childs\":{\"2.2 P1\":{\"label\":\"Paragraph\"},\n",
    "                                          \"2.2 P2\":{\"label\":\"Paragraph\"},\n",
    "                                          \"2.2 P3\":{\"label\":\"Paragraph\"},\n",
    "                                          \"2.2 P4\":{\"label\":\"Paragraph\"},\n",
    "                                          \"2.2 P5\":{\"label\":\"Paragraph\"}},\n",
    "                                          },\n",
    "                                      }\n",
    "        }\n",
    "    }\n",
    "}}\n",
    "\n",
    "list_of_cypher_queries = []\n",
    "\n",
    "def building_hierarchy_tree(parent,hierarchy_dict,list_of_cypher_queries):\n",
    "    for title,content in hierarchy_dict.items():\n",
    "        label = content[\"label\"]\n",
    "        list_of_cypher_queries += ['CREATE (:' + label.lower()+ ' {name: \"'+ title +'\"});']\n",
    "        if parent is not None :\n",
    "            list_of_cypher_queries += ['MATCH (a:'+parent['label'].lower()+'{name:\"'+parent['name']+'\"}), (b:' + label.lower() +' {name:\"' + title +'\"})' + '  CREATE (b)-[:IS_PART_OF]->(a);']\n",
    "        if \"childs\" in content.keys():\n",
    "            list_of_cypher_queries = building_hierarchy_tree({'name':title,'label':label},content[\"childs\"],list_of_cypher_queries)\n",
    "    return list_of_cypher_queries\n",
    "\n",
    "list_of_cypher_queries = building_hierarchy_tree(None,hierarchy_dict,list_of_cypher_queries)\n"
   ]
  },
  {
   "cell_type": "code",
   "execution_count": 10,
   "metadata": {},
   "outputs": [],
   "source": [
    "\n",
    "def build_node_name(title,number):\n",
    "    name = \"\"\n",
    "    if \"Abstract\" in title:\n",
    "        return \"Abstract P1\"\n",
    "    else:\n",
    "        if title[2].isnumeric():\n",
    "            return title[:3] + \" P\" + str(number)\n",
    "        else:\n",
    "            return title[:2] + \" P\" + str(number)\n",
    "        \n",
    "for p in dict_p[\"paragraphs\"][:12]:\n",
    "    paragraph_name = build_node_name(p[\"section\"],p[\"number\"])\n",
    "    nodes = p[\"graph\"][\"nodes\"]\n",
    "    relations = p[\"graph\"][\"relations\"]\n",
    "    for node in nodes :\n",
    "        list_of_cypher_queries += ['CREATE (:concept {name: \"'+ node +'\"});']\n",
    "        list_of_cypher_queries += ['MATCH (a:paragraph {name:\"' + paragraph_name +'\"}), (b:concept {name:\"' + node +'\"})' + '  CREATE (a)-[:TALKS_ABOUT]->(b);']\n",
    "    for relation in relations:\n",
    "        if relation[0] not in nodes:\n",
    "            list_of_cypher_queries += ['CREATE (:concept {name: \"'+ relation[0] +'\"});']\n",
    "            list_of_cypher_queries += ['MATCH (a:paragraph {name:\"' + paragraph_name +'\"}), (b:concept {name:\"' + relation[0] +'\"})' + '  CREATE (a)-[:TALKS_ABOUT]->(b);']\n",
    "        if relation[1] not in nodes:\n",
    "            list_of_cypher_queries += ['CREATE (:concept {name: \"'+ relation[1] +'\"});']\n",
    "            list_of_cypher_queries += ['MATCH (a:paragraph {name:\"' + paragraph_name +'\"}), (b:concept {name:\"' + relation[1] +'\"})' + '  CREATE (a)-[:TALKS_ABOUT]->(b);']\n",
    "\n",
    "        list_of_cypher_queries += ['MATCH (a:concept {name:\"' + relation[0] +'\"}), (b:concept {name:\"' + relation[1] +'\"})' + '  CREATE (a)-[:'+ relation[2].upper().replace(\" \",\"_\").replace(\".\",\"_\") +']->(b);']"
   ]
  },
  {
   "cell_type": "code",
   "execution_count": 11,
   "metadata": {},
   "outputs": [],
   "source": [
    "with open('../llm_functions/cypher_queries.txt', 'w') as f:\n",
    "    for line in list_of_cypher_queries:\n",
    "        f.write(f\"{line}\\n\")\n"
   ]
  }
 ],
 "metadata": {
  "kernelspec": {
   "display_name": "Python 3",
   "language": "python",
   "name": "python3"
  },
  "language_info": {
   "codemirror_mode": {
    "name": "ipython",
    "version": 3
   },
   "file_extension": ".py",
   "mimetype": "text/x-python",
   "name": "python",
   "nbconvert_exporter": "python",
   "pygments_lexer": "ipython3",
   "version": "3.11.5"
  },
  "orig_nbformat": 4
 },
 "nbformat": 4,
 "nbformat_minor": 2
}
