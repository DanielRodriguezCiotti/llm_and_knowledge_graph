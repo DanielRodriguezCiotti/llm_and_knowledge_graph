{
 "cells": [
  {
   "cell_type": "code",
   "execution_count": 7,
   "metadata": {},
   "outputs": [
    {
     "name": "stderr",
     "output_type": "stream",
     "text": [
      "/var/folders/rl/l_q2y9td2rx0jf4kf0hfy0qm0000gn/T/ipykernel_10323/1435692714.py:20: SADeprecationWarning: The AutomapBase.prepare.reflect parameter is deprecated and will be removed in a future release.  Reflection is enabled when AutomapBase.prepare.autoload_with is passed.\n",
      "  schema.prepare(connection, reflect=True)\n",
      "/var/folders/rl/l_q2y9td2rx0jf4kf0hfy0qm0000gn/T/ipykernel_10323/1435692714.py:20: SAWarning: Did not recognize type 'vector' of column 'embedding'\n",
      "  schema.prepare(connection, reflect=True)\n"
     ]
    }
   ],
   "source": [
    "import langchain\n",
    "import dotenv\n",
    "from sqlalchemy.orm import Session\n",
    "from sqlalchemy import create_engine\n",
    "from sqlalchemy.ext.automap import automap_base\n",
    "from sqlalchemy.dialects.postgresql import insert\n",
    "import os\n",
    "\n",
    "dotenv.load_dotenv()\n",
    "\n",
    "embedding = langchain.embeddings.OpenAIEmbeddings(\n",
    "    model='text-embedding-ada-002',\n",
    ")\n",
    "\n",
    "DATABASE_URL = os.environ.get('DATABASE_URL', None)\n",
    "# Connect to the database\n",
    "connection = create_engine(DATABASE_URL)\n",
    "# Reflect the database schema\n",
    "schema = automap_base()\n",
    "schema.prepare(connection, reflect=True)\n",
    "session = Session(connection)\n"
   ]
  },
  {
   "cell_type": "code",
   "execution_count": 8,
   "metadata": {},
   "outputs": [],
   "source": [
    "with open('cypher_queries.txt','r') as f:\n",
    "    queries = f.readlines()"
   ]
  },
  {
   "cell_type": "code",
   "execution_count": 9,
   "metadata": {},
   "outputs": [],
   "source": [
    "nodes = []\n",
    "for query in queries:\n",
    "    if \"CREATE\" == query[:6]:\n",
    "        nodes += [query.split('\"')[1]]\n"
   ]
  },
  {
   "cell_type": "code",
   "execution_count": 10,
   "metadata": {},
   "outputs": [],
   "source": [
    "embeddings_list = embedding.embed_documents(nodes)"
   ]
  },
  {
   "cell_type": "code",
   "execution_count": 11,
   "metadata": {},
   "outputs": [],
   "source": [
    "records = []\n",
    "for i in range(len(nodes)):\n",
    "    records += [{\"content\":nodes[i],\"embedding\":embeddings_list[i]}]\n",
    "    "
   ]
  },
  {
   "cell_type": "code",
   "execution_count": 12,
   "metadata": {},
   "outputs": [],
   "source": [
    "nodes_embeddings_table = schema.classes.nodes_embeddings\n",
    "insert_data = insert(nodes_embeddings_table).values(records)\n",
    "insert_data = insert_data.on_conflict_do_nothing()\n",
    "try:\n",
    "    session.execute(insert_data)\n",
    "    session.commit()\n",
    "\n",
    "except Exception as e:\n",
    "    session.rollback()\n",
    "    raise e"
   ]
  }
 ],
 "metadata": {
  "kernelspec": {
   "display_name": "Python 3",
   "language": "python",
   "name": "python3"
  },
  "language_info": {
   "codemirror_mode": {
    "name": "ipython",
    "version": 3
   },
   "file_extension": ".py",
   "mimetype": "text/x-python",
   "name": "python",
   "nbconvert_exporter": "python",
   "pygments_lexer": "ipython3",
   "version": "3.11.5"
  },
  "orig_nbformat": 4
 },
 "nbformat": 4,
 "nbformat_minor": 2
}
