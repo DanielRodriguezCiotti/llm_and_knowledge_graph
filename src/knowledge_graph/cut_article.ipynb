{
 "cells": [
  {
   "cell_type": "code",
   "execution_count": 30,
   "metadata": {},
   "outputs": [],
   "source": [
    "from PyPDF2 import PdfReader\n",
    "import json"
   ]
  },
  {
   "cell_type": "code",
   "execution_count": 31,
   "metadata": {},
   "outputs": [],
   "source": [
    "reader = PdfReader('PSS_lunar_exploration_paper_preprint.pdf')"
   ]
  },
  {
   "cell_type": "code",
   "execution_count": 33,
   "metadata": {},
   "outputs": [],
   "source": [
    "# Keep the content of the article\n",
    "pages = reader.pages[2:37]"
   ]
  },
  {
   "cell_type": "code",
   "execution_count": 48,
   "metadata": {},
   "outputs": [],
   "source": [
    "# Store the whole article in a single string\n",
    "whole_article = \" \".join([ page.extract_text() for page in pages])"
   ]
  },
  {
   "cell_type": "code",
   "execution_count": null,
   "metadata": {},
   "outputs": [],
   "source": [
    "# Correct typos in the titles\n",
    "whole_article= whole_article.replace(\"3.1.1 Research that enhances our understandi ng of the habitability of the Earth \\nthrough time\",\"3.1.1 Research that enhances our understanding of the habitability of the Earth through time\")\n",
    "whole_article= whole_article.replace(\"3.1.2 Research that enhances our understanding of the possibili ty of life elsewhere in \\nthe Universe\",\"3.1.2 Research that enhances our understanding of the possibility of life elsewhere in the Universe\")\n",
    "whole_article= whole_article.replace(\"3.1.3 Research that advances the human exploration and settle ment of space\",\"3.1.3 Research that advances the human exploration and settlement of space\")\n",
    "whole_article= whole_article.replace(\"2.2 The structure and compositio n of the lunar interior\",\"2.2 The structure and composition of the lunar interior\")"
   ]
  },
  {
   "cell_type": "code",
   "execution_count": 69,
   "metadata": {},
   "outputs": [],
   "source": [
    "titles = [\n",
    "    \"1. Introduction\",\n",
    "    \"2. Science of the Moon\",\n",
    "    \"2.1 The Bombardment History of the Inner Solar System\",\n",
    "    \"2.2 The structure and composition of the lunar interior\",\n",
    "    \"2.3 The diversity of lunar crustal rocks\",\n",
    "    \"2.4 Volatiles at the lunar poles\",\n",
    "    \"2.5 Lunar volcanism\",\n",
    "    \"2.6 Impact processes\",\n",
    "    \"2.7 Regolith processes\",\n",
    "    \"2.8 Atmospheric and dust environment\",\n",
    "    \"3. Science on the Moon\",\n",
    "    \"3.1 Life sciences and astrobiology\",\n",
    "    \"3.1.1 Research that enhances our understanding of the habitability of the Earth through time\",\n",
    "    \"3.1.2 Research that enhances our understanding of the possibility of life elsewhere in the Universe\",\n",
    "    \"3.1.3 Research that advances the human exploration and settlement of space\",\n",
    "    \"3.2 Human physiology and medicine\",\n",
    "    \"3.3 Fundamental physics\",\n",
    "    \"4. Science from the Moon – Astronomy\",\n",
    "    \"4.1 Why Astronomy?\",\n",
    "    \"4.2 Which astronomy?\",\n",
    "    \"5 Conclusions\",\n",
    "]\n",
    "for title in titles :\n",
    "    assert title in whole_article, title\n",
    "\n"
   ]
  },
  {
   "cell_type": "code",
   "execution_count": 72,
   "metadata": {},
   "outputs": [],
   "source": [
    "def extract_sections(whole_article,titles):\n",
    "    sections = []\n",
    "    part = {'title':'beginning','text':''}\n",
    "    rest_text = whole_article\n",
    "    for title in titles:\n",
    "        text_part , rest_text = rest_text.split(title)\n",
    "        part[\"text\"] = text_part\n",
    "        sections += [part.copy()]\n",
    "        part = {'title':title,'text':''}\n",
    "\n",
    "    part[\"text\"] = rest_text\n",
    "    sections += [part.copy()]\n",
    "    return sections\n",
    "\n",
    "\n",
    "sections = extract_sections(whole_article,titles)\n"
   ]
  },
  {
   "cell_type": "code",
   "execution_count": 73,
   "metadata": {},
   "outputs": [],
   "source": [
    "paragraphs = []\n",
    "for section in sections:\n",
    "    for i,p in enumerate(section[\"text\"].split(\"\\n \\n\")):\n",
    "        paragraphs += [{\"section\":section[\"title\"],\"number\":i,\"text\":p}]\n"
   ]
  },
  {
   "cell_type": "code",
   "execution_count": 82,
   "metadata": {},
   "outputs": [],
   "source": [
    "# Save the data\n",
    "with open(\"data.json\", 'w') as json_file:\n",
    "    json.dump({\"paragraphs\":paragraphs}, json_file, indent=4)\n"
   ]
  }
 ],
 "metadata": {
  "kernelspec": {
   "display_name": "Python 3",
   "language": "python",
   "name": "python3"
  },
  "language_info": {
   "codemirror_mode": {
    "name": "ipython",
    "version": 3
   },
   "file_extension": ".py",
   "mimetype": "text/x-python",
   "name": "python",
   "nbconvert_exporter": "python",
   "pygments_lexer": "ipython3",
   "version": "3.11.5"
  },
  "orig_nbformat": 4
 },
 "nbformat": 4,
 "nbformat_minor": 2
}
