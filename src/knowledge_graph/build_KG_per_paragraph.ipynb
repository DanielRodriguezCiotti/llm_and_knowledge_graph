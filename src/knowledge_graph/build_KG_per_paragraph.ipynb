{
 "cells": [
  {
   "cell_type": "code",
   "execution_count": 1,
   "metadata": {},
   "outputs": [
    {
     "data": {
      "text/plain": [
       "True"
      ]
     },
     "execution_count": 1,
     "metadata": {},
     "output_type": "execute_result"
    }
   ],
   "source": [
    "import langchain\n",
    "from dotenv import load_dotenv\n",
    "import json\n",
    "from tqdm import tqdm\n",
    "\n",
    "load_dotenv()"
   ]
  },
  {
   "cell_type": "code",
   "execution_count": 2,
   "metadata": {},
   "outputs": [],
   "source": [
    "with open(\"data.json\", 'r') as json_file:\n",
    "    dict_p = json.load(json_file)"
   ]
  },
  {
   "cell_type": "code",
   "execution_count": 3,
   "metadata": {},
   "outputs": [],
   "source": [
    "\n",
    "# Load the LLM model\n",
    "chat = langchain.chat_models.ChatOpenAI(temperature=0.2, model_name='gpt-4',)\n",
    "\n",
    "\n",
    "def get_basic_chat_chain(system_template: str, user_template: str) -> langchain.LLMChain:\n",
    "    \"\"\"\n",
    "    Returns a langchain chain given an user and chat inputs\n",
    "\n",
    "    Parameters:\n",
    "        system_template (str): The system template\n",
    "        user_template (str): The user template\n",
    "\n",
    "    Returns:\n",
    "        langchain.LLMChain: The langchain chain\n",
    "    \"\"\"\n",
    "\n",
    "    system_prompt = langchain.prompts.SystemMessagePromptTemplate.from_template(\n",
    "        system_template)\n",
    "\n",
    "    user_prompt = langchain.prompts.HumanMessagePromptTemplate.from_template(\n",
    "        user_template)\n",
    "\n",
    "    chat_prompt = langchain.prompts.ChatPromptTemplate.from_messages([\n",
    "        system_prompt,\n",
    "        user_prompt\n",
    "    ])\n",
    "\n",
    "    return langchain.LLMChain(llm=chat, prompt=chat_prompt)\n",
    "\n"
   ]
  },
  {
   "cell_type": "code",
   "execution_count": 4,
   "metadata": {},
   "outputs": [],
   "source": [
    "system_promt = \"\"\"\n",
    "Your are an assistant and you are creating a knowledge graph from a scientific article the talks about the moon exploration.\n",
    "You will be given as input a piece of text from the article. \n",
    "Your job is to identify the main concepts to use them as nodes in our knowledge graph. \n",
    "Then you have to identify the relations between each concept.\n",
    "\n",
    "You will return the answer as a JSON object with the keys:\n",
    "    - \"nodes\" and the value as a list of strings ['concept1','concept2','concept3',...].\n",
    "    - \"relations\" and the value as a list of lists [['concept9','concept10','relation1'],['concept9','concept2','relation2']...]\n",
    "You have to only return the JSON object.\n",
    "Your answer begins with a left curly bracket and ends with a right curly bracket.\n",
    "No preface text.\n",
    "\n",
    "\"\"\"\n",
    "user_prompt = \"\"\"\n",
    "## TEXT:\n",
    "{text}\n",
    "\n",
    "\"\"\"\n",
    "chain = get_basic_chat_chain(system_promt,user_prompt)"
   ]
  },
  {
   "cell_type": "code",
   "execution_count": 5,
   "metadata": {},
   "outputs": [
    {
     "name": "stderr",
     "output_type": "stream",
     "text": [
      "100%|██████████| 44/44 [21:50<00:00, 29.79s/it]\n"
     ]
    }
   ],
   "source": [
    "for p in tqdm(dict_p[\"paragraphs\"][12:]):\n",
    "    text=p[\"text\"]\n",
    "    response = chain.run(text=text)\n",
    "    try:\n",
    "        p[\"graph\"] = json.loads(response)\n",
    "    except:\n",
    "        print(response)\n",
    "\n"
   ]
  },
  {
   "cell_type": "code",
   "execution_count": 6,
   "metadata": {},
   "outputs": [],
   "source": [
    "with open(\"data_graph_bis.json\",\"w\") as f:\n",
    "    json.dump(dict_p, f, indent=4)"
   ]
  }
 ],
 "metadata": {
  "kernelspec": {
   "display_name": "Python 3",
   "language": "python",
   "name": "python3"
  },
  "language_info": {
   "codemirror_mode": {
    "name": "ipython",
    "version": 3
   },
   "file_extension": ".py",
   "mimetype": "text/x-python",
   "name": "python",
   "nbconvert_exporter": "python",
   "pygments_lexer": "ipython3",
   "version": "3.11.5"
  },
  "orig_nbformat": 4
 },
 "nbformat": 4,
 "nbformat_minor": 2
}
