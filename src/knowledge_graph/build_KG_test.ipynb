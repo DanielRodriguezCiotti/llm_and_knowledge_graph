{
 "cells": [
  {
   "cell_type": "code",
   "execution_count": 30,
   "metadata": {},
   "outputs": [],
   "source": [
    "from PyPDF2 import PdfReader\n"
   ]
  },
  {
   "cell_type": "code",
   "execution_count": 31,
   "metadata": {},
   "outputs": [],
   "source": [
    "reader = PdfReader('PSS_lunar_exploration_paper_preprint.pdf')"
   ]
  },
  {
   "cell_type": "code",
   "execution_count": 33,
   "metadata": {},
   "outputs": [],
   "source": [
    "pages = reader.pages[2:37]"
   ]
  },
  {
   "cell_type": "code",
   "execution_count": 63,
   "metadata": {},
   "outputs": [
    {
     "name": "stdout",
     "output_type": "stream",
     "text": [
      "for study on the Moon or return to the Earth. The organisms returned from these craft \n",
      "would answer many questions about the l ongevity of microorganisms in the space \n",
      "environment that will inform fields as di verse as planetary protection, for example \n",
      "allowing for an assessment of how long contaminant organisms survive on other planetary surfaces (Rummel, 2004; Glavin et al., 2004, 2010) and biogeography, for example, showing whether organisms can su rvive the conditions in interplanetary \n",
      "space and the impact conditions of landing on another planetary surface after being \n",
      "transferred from one planet to another (Clar k, 2001; Horneck et al.,  2001; Mastrapa et \n",
      "al., 2001; Burchell, 2004; Cockell et  al., 2007; Nicholson et al., 2005). \n",
      "  3.1.3 Research that advances the human exploration and settle ment of space  \n",
      " \n",
      "The space environment is hostile to life and includes hard vacuum, high radiation \n",
      "(both UV and ionizing radiation) , altered gravity regimes, th e presence of biologically \n",
      "and mechanically aggravating dust, and difficulties in acquiring liquid water and \n",
      "gases to breathe (e.g. Horneck, 1996; Horneck et al., 2003). The Moon is therefore a testing ground for technological principles a nd approaches for dealing with the major \n",
      "environmental parameters that affect life in outer space. For example, the Moon can be used to investigate whether the effects of gravity are linear or whether there are \n",
      "critical threshold in effect (e.g. Cockell, 2010), the biological eff ects of the radiation \n",
      "environment beyond the Earth’s magnetosphe re, and the toxicity  of lunar dust \n",
      "(Carpenter et al., 2010; Loftus et  al., 2010; Linnar sson et al., 2012). \n",
      " \n"
     ]
    }
   ],
   "source": [
    "print(pages[20].extract_text())"
   ]
  },
  {
   "cell_type": "code",
   "execution_count": 48,
   "metadata": {},
   "outputs": [],
   "source": [
    "whole_article = \" \".join([ page.extract_text() for page in pages])\n"
   ]
  },
  {
   "cell_type": "code",
   "execution_count": null,
   "metadata": {},
   "outputs": [],
   "source": [
    "whole_article= whole_article.replace(\"3.1.1 Research that enhances our understandi ng of the habitability of the Earth \\nthrough time\",\"3.1.1 Research that enhances our understanding of the habitability of the Earth through time\")\n",
    "whole_article= whole_article.replace(\"3.1.2 Research that enhances our understanding of the possibili ty of life elsewhere in \\nthe Universe\",\"3.1.2 Research that enhances our understanding of the possibility of life elsewhere in the Universe\")\n",
    "whole_article= whole_article.replace(\"3.1.3 Research that advances the human exploration and settle ment of space\",\"3.1.3 Research that advances the human exploration and settlement of space\")\n",
    "whole_article= whole_article.replace(\"2.2 The structure and compositio n of the lunar interior\",\"2.2 The structure and composition of the lunar interior\")"
   ]
  },
  {
   "cell_type": "code",
   "execution_count": 69,
   "metadata": {},
   "outputs": [],
   "source": [
    "titles = [\n",
    "    \"1. Introduction\",\n",
    "    \"2. Science of the Moon\",\n",
    "    \"2.1 The Bombardment History of the Inner Solar System\",\n",
    "    \"2.2 The structure and composition of the lunar interior\",\n",
    "    \"2.3 The diversity of lunar crustal rocks\",\n",
    "    \"2.4 Volatiles at the lunar poles\",\n",
    "    \"2.5 Lunar volcanism\",\n",
    "    \"2.6 Impact processes\",\n",
    "    \"2.7 Regolith processes\",\n",
    "    \"2.8 Atmospheric and dust environment\",\n",
    "    \"3. Science on the Moon\",\n",
    "    \"3.1 Life sciences and astrobiology\",\n",
    "    \"3.1.1 Research that enhances our understanding of the habitability of the Earth through time\",\n",
    "    \"3.1.2 Research that enhances our understanding of the possibility of life elsewhere in the Universe\",\n",
    "    \"3.1.3 Research that advances the human exploration and settlement of space\",\n",
    "    \"3.2 Human physiology and medicine\",\n",
    "    \"3.3 Fundamental physics\",\n",
    "    \"4. Science from the Moon – Astronomy\",\n",
    "    \"4.1 Why Astronomy?\",\n",
    "    \"4.2 Which astronomy?\",\n",
    "    \"5 Conclusions\",\n",
    "]\n",
    "for title in titles :\n",
    "    assert title in whole_article, title\n",
    "\n"
   ]
  },
  {
   "cell_type": "code",
   "execution_count": 72,
   "metadata": {},
   "outputs": [],
   "source": [
    "def extract_sections(whole_article,titles):\n",
    "    sections = []\n",
    "    part = {'title':'beginning','text':''}\n",
    "    rest_text = whole_article\n",
    "    for title in titles:\n",
    "        text_part , rest_text = rest_text.split(title)\n",
    "        part[\"text\"] = text_part\n",
    "        sections += [part.copy()]\n",
    "        part = {'title':title,'text':''}\n",
    "\n",
    "    part[\"text\"] = rest_text\n",
    "    sections += [part.copy()]\n",
    "    return sections\n",
    "\n",
    "\n",
    "sections = extract_sections(whole_article,titles)\n"
   ]
  },
  {
   "cell_type": "code",
   "execution_count": 73,
   "metadata": {},
   "outputs": [],
   "source": [
    "paragraphs = []\n",
    "for section in sections:\n",
    "    for i,p in enumerate(section[\"text\"].split(\"\\n \\n\")):\n",
    "        paragraphs += [{\"section\":section[\"title\"],\"number\":i,\"text\":p}]\n"
   ]
  },
  {
   "cell_type": "code",
   "execution_count": 82,
   "metadata": {},
   "outputs": [],
   "source": [
    "import json\n",
    "with open(\"data.json\", 'w') as json_file:\n",
    "    json.dump(dict_p, json_file, indent=4)\n"
   ]
  },
  {
   "cell_type": "code",
   "execution_count": 2,
   "metadata": {},
   "outputs": [],
   "source": [
    "import json\n",
    "with open(\"data.json\", 'r') as json_file:\n",
    "    dict_p = json.load(json_file)"
   ]
  },
  {
   "cell_type": "code",
   "execution_count": 85,
   "metadata": {},
   "outputs": [],
   "source": [
    "import numpy as np\n",
    "p_counter = dict(zip(np.arange(1,6),np.zeros(6)))\n",
    "for p in dict_p[\"paragraphs\"]:\n",
    "    if p[\"section\"][0].isnumeric():\n",
    "        i = int(p[\"section\"][0])\n",
    "        p_counter[i]+=1\n",
    "\n"
   ]
  },
  {
   "cell_type": "code",
   "execution_count": 86,
   "metadata": {},
   "outputs": [
    {
     "data": {
      "text/plain": [
       "{1: 1.0, 2: 24.0, 3: 14.0, 4: 13.0, 5: 3.0}"
      ]
     },
     "execution_count": 86,
     "metadata": {},
     "output_type": "execute_result"
    }
   ],
   "source": [
    "p_counter"
   ]
  },
  {
   "cell_type": "code",
   "execution_count": 87,
   "metadata": {},
   "outputs": [
    {
     "name": "stdout",
     "output_type": "stream",
     "text": [
      "1099.9642857142858\n"
     ]
    }
   ],
   "source": [
    "mean_len = 0\n",
    "for p in dict_p[\"paragraphs\"]:\n",
    "    mean_len += len(p[\"text\"])\n",
    "print(mean_len/len(dict_p[\"paragraphs\"]))"
   ]
  },
  {
   "cell_type": "code",
   "execution_count": 88,
   "metadata": {},
   "outputs": [
    {
     "data": {
      "text/plain": [
       "26.348"
      ]
     },
     "execution_count": 88,
     "metadata": {},
     "output_type": "execute_result"
    }
   ],
   "source": [
    "0.04*(576 + 196 + 169) * 700 / 1000"
   ]
  },
  {
   "cell_type": "code",
   "execution_count": 1,
   "metadata": {},
   "outputs": [],
   "source": [
    "import langchain\n",
    "from dotenv import load_dotenv\n",
    "\n",
    "load_dotenv()\n",
    "\n",
    "\n",
    "# Load the LLM model\n",
    "chat = langchain.chat_models.ChatOpenAI(temperature=0.2, model_name='gpt-4',)\n",
    "\n",
    "\n",
    "def get_basic_chat_chain(system_template: str, user_template: str) -> langchain.LLMChain:\n",
    "    \"\"\"\n",
    "    Returns a langchain chain given an user and chat inputs\n",
    "\n",
    "    Parameters:\n",
    "        system_template (str): The system template\n",
    "        user_template (str): The user template\n",
    "\n",
    "    Returns:\n",
    "        langchain.LLMChain: The langchain chain\n",
    "    \"\"\"\n",
    "\n",
    "    system_prompt = langchain.prompts.SystemMessagePromptTemplate.from_template(\n",
    "        system_template)\n",
    "\n",
    "    user_prompt = langchain.prompts.HumanMessagePromptTemplate.from_template(\n",
    "        user_template)\n",
    "\n",
    "    chat_prompt = langchain.prompts.ChatPromptTemplate.from_messages([\n",
    "        system_prompt,\n",
    "        user_prompt\n",
    "    ])\n",
    "\n",
    "    return langchain.LLMChain(llm=chat, prompt=chat_prompt)\n",
    "\n"
   ]
  },
  {
   "cell_type": "code",
   "execution_count": 25,
   "metadata": {},
   "outputs": [],
   "source": [
    "system_promt = \"\"\"\n",
    "Your are an assistant and you are creating a knowledge graph from a scientific article the talks about the moon exploration.\n",
    "You will be given as input two pieces of text from the article. \n",
    "\n",
    "You have to identify the main concepts of each piece of text.\n",
    "And depending on what is said in both texts you need to identify possible relations between the concepts.\n",
    "\n",
    "\n",
    "You will return the answer as a json object:\n",
    "\n",
    "\n",
    "    'textA_concepts' : ['concept1','concept2','concept3',...],\n",
    "    'textB_concepts' : ['concept4','concept5','concept6',...],\n",
    "    'relations' : [\n",
    "        ('concept9','concept10','relation1'),\n",
    "        ('concept9','concept2','relation2'),\n",
    "    ],\n",
    "\n",
    "\n",
    "You can select as many concepts as you want but they have to be relevant.\n",
    "You can etablish as many relations as you want.\n",
    "\n",
    "\"\"\"\n",
    "user_prompt = \"\"\"\n",
    "## INPUTS:\n",
    "\n",
    "#TEXT A\n",
    "{T1}\n",
    "\n",
    "#TEXT B\n",
    "{T2}\n",
    "\"\"\""
   ]
  },
  {
   "cell_type": "code",
   "execution_count": null,
   "metadata": {},
   "outputs": [],
   "source": []
  },
  {
   "cell_type": "code",
   "execution_count": 27,
   "metadata": {},
   "outputs": [],
   "source": [
    "chain = get_basic_chat_chain(system_promt,user_prompt)"
   ]
  },
  {
   "cell_type": "code",
   "execution_count": 28,
   "metadata": {},
   "outputs": [],
   "source": [
    "response = chain.run(T1=dict_p[\"paragraphs\"][18][\"text\"],T2=dict_p[\"paragraphs\"][10][\"text\"])"
   ]
  },
  {
   "cell_type": "code",
   "execution_count": 30,
   "metadata": {},
   "outputs": [
    {
     "name": "stdout",
     "output_type": "stream",
     "text": [
      "## OUTPUT:\n",
      "\n",
      "    {\n",
      "    'textA_concepts' : ['remote sensing measurements', 'concentration of polar ice', 'high latitude surficial OH/H2O', 'in situ measurements', 'landed spacecraft', 'permanently shadowed environments', 'high latitude environments', 'temperatures below 40 K', 'human exploration', 'robotic vehicles', 'nuclear power source', 'long-lived batteries', 'penetrator-based system', 'MoonLITE', 'LunarNet mission concepts', 'non-permanently shadowed polar localities', 'solar-powered robotic exploration', 'ESA’s Lunar Lander', 'Lunar Beagle', 'measurements of volatiles', 'characterization of polar volatiles', 'lunar geology', 'human exploration', 'exploitable quantities of volatiles'],\n",
      "    'textB_concepts' : ['thermal perturbation', 'autonomous lander', 'heat flow measurements', 'landing site', 'thermal probes', 'human operated drill', 'Apollo astronauts', 'human operated portable magnetometers', 'Apollo 14 and 16 missions', 'surface magnetic fields', 'kilometer scale distances', 'magnetic surveys', 'origins of enigmatic fields', 'Strong magnetic fields', 'deflecting harmful solar and cosmic rays', 'human exploration activities', 'detailed surface magnetic field map'],\n",
      "    'relations' : [\n",
      "        ('human exploration', 'landed spacecraft', 'requires'),\n",
      "        ('human exploration', 'robotic vehicles', 'requires'),\n",
      "        ('human exploration', 'nuclear power source', 'requires'),\n",
      "        ('human exploration', 'long-lived batteries', 'requires'),\n",
      "        ('human exploration', 'autonomous lander', 'requires'),\n",
      "        ('human exploration', 'human operated drill', 'uses'),\n",
      "        ('human exploration', 'human operated portable magnetometers', 'uses'),\n",
      "        ('human exploration', 'exploitable quantities of volatiles', 'facilitated by'),\n",
      "        ('human exploration', 'Strong magnetic fields', 'benefits from'),\n",
      "        ('human exploration', 'deflecting harmful solar and cosmic rays', 'benefits from'),\n",
      "        ('human exploration', 'detailed surface magnetic field map', 'benefits from'),\n",
      "        ('solar-powered robotic exploration', 'non-permanently shadowed polar localities', 'possible in'),\n",
      "        ('nuclear power source', 'permanently shadowed environments', 'required for'),\n",
      "        ('long-lived batteries', 'permanently shadowed environments', 'required for'),\n",
      "        ('penetrator-based system', 'permanently shadowed environments', 'possible in'),\n",
      "        ('thermal perturbation', 'heat flow measurements', 'affects'),\n",
      "        ('autonomous lander', 'thermal perturbation', 'causes'),\n",
      "        ('landing site', 'thermal perturbation', 'affected by'),\n",
      "        ('thermal probes', 'heat flow measurements', 'used for'),\n",
      "        ('human operated drill', 'thermal probes', 'facilitates'),\n",
      "        ('surface magnetic fields', 'magnetic surveys', 'measured by'),\n",
      "        ('Strong magnetic fields', 'deflecting harmful solar and cosmic rays', 'helps in'),\n",
      "        ('surface magnetic fields', 'human exploration activities', 'affects')\n",
      "    ]\n",
      "    }\n"
     ]
    }
   ],
   "source": [
    "print(response)"
   ]
  },
  {
   "cell_type": "code",
   "execution_count": 22,
   "metadata": {},
   "outputs": [],
   "source": [
    "system_promt = \"\"\"\n",
    "Your are an assistant and you are creating a knowledge graph from a scientific article the talks about the moon exploration.\n",
    "You will be given as input a piece of text from the article. \n",
    "Your job is to identify the main concepts to use them as nodes in our knowledge graph. \n",
    "Then you have to identify the relations between each concept.\n",
    "\n",
    "You will return the answer as a JSON object with the keys:\n",
    "    - \"nodes\" and the value as a list of strings ['concept1','concept2','concept3',...].\n",
    "    - \"relations\" and the value as a list of lists [['concept9','concept10','relation1'],['concept9','concept2','relation2']...]\n",
    "You have to only return the JSON object.\n",
    "Your answer begins with a left curly bracket and ends with a right curly bracket.\n",
    "No preface text.\n",
    "\n",
    "\"\"\"\n",
    "user_prompt = \"\"\"\n",
    "## TEXT:\n",
    "{text}\n",
    "\n",
    "\"\"\""
   ]
  },
  {
   "cell_type": "code",
   "execution_count": 23,
   "metadata": {},
   "outputs": [],
   "source": [
    "chain = get_basic_chat_chain(system_promt,user_prompt)"
   ]
  },
  {
   "cell_type": "code",
   "execution_count": 24,
   "metadata": {},
   "outputs": [],
   "source": [
    "for p in dict_p[\"paragraphs\"][0]\n",
    "text=dict_p[\"paragraphs\"][0][\"text\"]\n",
    "response = chain.run(text=text)"
   ]
  },
  {
   "cell_type": "code",
   "execution_count": 25,
   "metadata": {},
   "outputs": [
    {
     "name": "stdout",
     "output_type": "stream",
     "text": [
      "{\"nodes\": [\"lunar geological record\", \"Solar System\", \"origin and evolution of the Earth-Moon system\", \"geological evolution of rocky planets\", \"near-Earth cosmic environment\", \"lunar surface\", \"research in astronomy\", \"astrobiology\", \"fundamental physics\", \"life sciences\", \"human physiology and medicine\", \"lunar science objectives\", \"lunar surface exploration\", \"scientific instruments\", \"surface of the Moon\", \"robotic exploration\", \"geophysical networks\", \"radio telescopes\", \"human operations on the lunar surface\", \"human lunar exploration programme\", \"Global Exploration Roadmap\", \"Lunar geology\", \"Lunar geophysics\", \"Lunar astronomy\", \"Space exploration\", \"Space life sciences\", \"Space medicine\"],\n",
      "\"relations\": [[\"lunar geological record\", \"Solar System\", \"provides information about\"], [\"lunar geological record\", \"origin and evolution of the Earth-Moon system\", \"provides information about\"], [\"lunar geological record\", \"geological evolution of rocky planets\", \"provides information about\"], [\"lunar geological record\", \"near-Earth cosmic environment\", \"provides information about\"], [\"lunar surface\", \"research in astronomy\", \"provides opportunities for\"], [\"lunar surface\", \"astrobiology\", \"provides opportunities for\"], [\"lunar surface\", \"fundamental physics\", \"provides opportunities for\"], [\"lunar surface\", \"life sciences\", \"provides opportunities for\"], [\"lunar surface\", \"human physiology and medicine\", \"provides opportunities for\"], [\"lunar surface exploration\", \"lunar science objectives\", \"required for addressing\"], [\"lunar surface exploration\", \"scientific instruments\", \"requires placement of\"], [\"lunar surface exploration\", \"surface of the Moon\", \"requires return of samples from\"], [\"robotic exploration\", \"surface of the Moon\", \"can achieve some objectives\"], [\"robotic exploration\", \"geophysical networks\", \"involves deployment of\"], [\"robotic exploration\", \"radio telescopes\", \"involves placement of antennas for\"], [\"human operations on the lunar surface\", \"lunar science objectives\", \"would benefit from\"], [\"human lunar exploration programme\", \"robotic surface exploration of the Moon\", \"should be developed in context of\"], [\"human lunar exploration programme\", \"Global Exploration Roadmap\", \"proposed by\"]]}\n"
     ]
    }
   ],
   "source": [
    "print(response)"
   ]
  },
  {
   "cell_type": "code",
   "execution_count": 26,
   "metadata": {},
   "outputs": [],
   "source": [
    "graph = json.loads(response)"
   ]
  },
  {
   "cell_type": "code",
   "execution_count": 28,
   "metadata": {},
   "outputs": [],
   "source": [
    "with open(\"graph_abstract\",\"w\") as f:\n",
    "    json.dump(graph, f, indent=4)"
   ]
  },
  {
   "cell_type": "code",
   "execution_count": 13,
   "metadata": {},
   "outputs": [
    {
     "name": "stdout",
     "output_type": "stream",
     "text": [
      "('{\"nodes\": [\"lunar geological record\", \"Solar System\", \"origin and evolution '\n",
      " 'of the Earth-Moon system\", \"geological evolution of rocky planets\", '\n",
      " '\"near-Earth cosmic environment\", \"lunar surface\", \"research in astronomy\", '\n",
      " '\"astrobiology\", \"fundamental physics\", \"life sciences\", \"human physiology '\n",
      " 'and medicine\", \"lunar science objectives\", \"lunar surface exploration\", '\n",
      " '\"scientific instruments\", \"samples from the Moon\", \"robotic operations\", '\n",
      " '\"geophysical networks\", \"radio telescopes\", \"human operations on the lunar '\n",
      " 'surface\", \"robotic surface exploration of the Moon\", \"human lunar '\n",
      " 'exploration programme\", \"Global Exploration Roadmap\", \"Lunar geology\", '\n",
      " '\"Lunar geophysics\", \"Lunar astronomy\", \"Space exploration\", \"Space life '\n",
      " 'sciences\", \"Space medicine\"],\\n'\n",
      " '\"relations\": [(\"lunar geological record\", \"Solar System\", \"tells about the '\n",
      " 'history of\"), (\"lunar geological record\", \"origin and evolution of the '\n",
      " 'Earth-Moon system\", \"tells about\"), (\"lunar geological record\", \"geological '\n",
      " 'evolution of rocky planets\", \"tells about\"), (\"lunar geological record\", '\n",
      " '\"near-Earth cosmic environment\", \"tells about\"), (\"lunar surface\", \"research '\n",
      " 'in astronomy\", \"offers opportunities for\"), (\"lunar surface\", '\n",
      " '\"astrobiology\", \"offers opportunities for\"), (\"lunar surface\", \"fundamental '\n",
      " 'physics\", \"offers opportunities for\"), (\"lunar surface\", \"life sciences\", '\n",
      " '\"offers opportunities for\"), (\"lunar surface\", \"human physiology and '\n",
      " 'medicine\", \"offers opportunities for\"), (\"lunar surface exploration\", \"lunar '\n",
      " 'science objectives\", \"required to address\"), (\"lunar surface exploration\", '\n",
      " '\"scientific instruments\", \"requires placing of\"), (\"lunar surface '\n",
      " 'exploration\", \"samples from the Moon\", \"requires return of\"), (\"robotic '\n",
      " 'operations\", \"geophysical networks\", \"can deploy\"), (\"robotic operations\", '\n",
      " '\"radio telescopes\", \"can place antennas on the lunar surface to form\"), '\n",
      " '(\"human operations on the lunar surface\", \"lunar science objectives\", \"would '\n",
      " 'benefit from\"), (\"robotic surface exploration of the Moon\", \"human lunar '\n",
      " 'exploration programme\", \"should be developed in the context of\"), (\"human '\n",
      " 'lunar exploration programme\", \"Global Exploration Roadmap\", \"proposed by\")]}')\n"
     ]
    }
   ],
   "source": [
    "from pprint import pprint\n",
    "pprint(response)"
   ]
  }
 ],
 "metadata": {
  "kernelspec": {
   "display_name": "Python 3",
   "language": "python",
   "name": "python3"
  },
  "language_info": {
   "codemirror_mode": {
    "name": "ipython",
    "version": 3
   },
   "file_extension": ".py",
   "mimetype": "text/x-python",
   "name": "python",
   "nbconvert_exporter": "python",
   "pygments_lexer": "ipython3",
   "version": "3.11.5"
  },
  "orig_nbformat": 4
 },
 "nbformat": 4,
 "nbformat_minor": 2
}
